{
 "cells": [
  {
   "cell_type": "code",
   "execution_count": 11,
   "metadata": {},
   "outputs": [
    {
     "name": "stdout",
     "output_type": "stream",
     "text": [
      "gravity applied\n",
      "gravity applied\n",
      "placing 99 at (0, 0, slice(None, None, None)) in row [0 0 0 0]\n",
      "placed 99 at (0, 0, slice(None, None, None)):TOP\n",
      "gravity applied\n",
      "[[[ 0  0  0 99]\n",
      "  [ 0  0  0  3]\n",
      "  [ 0  0  1  1]\n",
      "  [ 0  0  0  0]]\n",
      "\n",
      " [[ 0  0  3  3]\n",
      "  [ 0  1  3  2]\n",
      "  [ 0  2  1  1]\n",
      "  [ 0  0  0  0]]\n",
      "\n",
      " [[ 1  1  3  3]\n",
      "  [ 1  3  2  2]\n",
      "  [ 3  1  2  2]\n",
      "  [ 2  3  1  1]]\n",
      "\n",
      " [[ 1  3  2  3]\n",
      "  [ 2  1  1  2]\n",
      "  [ 3  2  3  1]\n",
      "  [ 1  2  2  2]]]\n"
     ]
    }
   ],
   "source": [
    "\n",
    "from board import *\n",
    "\n",
    "x = Board((4,4,4))\n",
    "x.populate_randomly()\n",
    "\n",
    "#print(x.tokens)\n",
    "\n",
    "x.apply_gravity()\n",
    "\n",
    "#print(x.tokens)\n",
    "\n",
    "x.place(Token.debug, (0,0), Gravity.right)\n",
    "\n",
    "print(x.tokens)"
   ]
  },
  {
   "cell_type": "markdown",
   "metadata": {},
   "source": []
  }
 ],
 "metadata": {
  "kernelspec": {
   "display_name": "Python 3",
   "language": "python",
   "name": "python3"
  },
  "language_info": {
   "codemirror_mode": {
    "name": "ipython",
    "version": 3
   },
   "file_extension": ".py",
   "mimetype": "text/x-python",
   "name": "python",
   "nbconvert_exporter": "python",
   "pygments_lexer": "ipython3",
   "version": "3.8.0"
  },
  "orig_nbformat": 4
 },
 "nbformat": 4,
 "nbformat_minor": 2
}
