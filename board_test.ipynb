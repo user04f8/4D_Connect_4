{
 "cells": [
  {
   "cell_type": "code",
   "execution_count": 16,
   "metadata": {},
   "outputs": [
    {
     "name": "stdout",
     "output_type": "stream",
     "text": [
      "[[[[11 17]\n",
      "   [54 70]]\n",
      "\n",
      "  [[98 20]\n",
      "   [17 89]]]\n",
      "\n",
      "\n",
      " [[[63  1]\n",
      "   [77 14]]\n",
      "\n",
      "  [[56 55]\n",
      "   [58 64]]]]\n"
     ]
    },
    {
     "ename": "IndexError",
     "evalue": "arrays used as indices must be of integer (or boolean) type",
     "output_type": "error",
     "traceback": [
      "\u001b[1;31m---------------------------------------------------------------------------\u001b[0m",
      "\u001b[1;31mIndexError\u001b[0m                                Traceback (most recent call last)",
      "\u001b[1;32mc:\\Users\\Nathan\\Programs\\4D_Connect_4\\board_test.ipynb Cell 1\u001b[0m in \u001b[0;36m<cell line: 43>\u001b[1;34m()\u001b[0m\n\u001b[0;32m     <a href='vscode-notebook-cell:/c%3A/Users/Nathan/Programs/4D_Connect_4/board_test.ipynb#W3sZmlsZQ%3D%3D?line=36'>37</a>\u001b[0m                     \u001b[39myield\u001b[39;00m arr[a,b,:]\u001b[39m.\u001b[39mdiagonal()\n\u001b[0;32m     <a href='vscode-notebook-cell:/c%3A/Users/Nathan/Programs/4D_Connect_4/board_test.ipynb#W3sZmlsZQ%3D%3D?line=39'>40</a>\u001b[0m \u001b[39m#arr[0,:,:,:].diagonal()[0] # 3d diagonals???\u001b[39;00m\n\u001b[0;32m     <a href='vscode-notebook-cell:/c%3A/Users/Nathan/Programs/4D_Connect_4/board_test.ipynb#W3sZmlsZQ%3D%3D?line=40'>41</a>\u001b[0m \u001b[39m# 4d diagonals???\u001b[39;00m\n\u001b[1;32m---> <a href='vscode-notebook-cell:/c%3A/Users/Nathan/Programs/4D_Connect_4/board_test.ipynb#W3sZmlsZQ%3D%3D?line=42'>43</a>\u001b[0m \u001b[39mfor\u001b[39;00m line \u001b[39min\u001b[39;00m get_lines(arr):\n\u001b[0;32m     <a href='vscode-notebook-cell:/c%3A/Users/Nathan/Programs/4D_Connect_4/board_test.ipynb#W3sZmlsZQ%3D%3D?line=43'>44</a>\u001b[0m     \u001b[39mprint\u001b[39m(line)\n",
      "\u001b[1;32mc:\\Users\\Nathan\\Programs\\4D_Connect_4\\board_test.ipynb Cell 1\u001b[0m in \u001b[0;36mget_lines\u001b[1;34m(arr)\u001b[0m\n\u001b[0;32m     <a href='vscode-notebook-cell:/c%3A/Users/Nathan/Programs/4D_Connect_4/board_test.ipynb#W3sZmlsZQ%3D%3D?line=20'>21</a>\u001b[0m \u001b[39mfor\u001b[39;00m i \u001b[39min\u001b[39;00m \u001b[39mrange\u001b[39m(arr\u001b[39m.\u001b[39mshape[orientation]):\n\u001b[0;32m     <a href='vscode-notebook-cell:/c%3A/Users/Nathan/Programs/4D_Connect_4/board_test.ipynb#W3sZmlsZQ%3D%3D?line=21'>22</a>\u001b[0m     \u001b[39m# cubes\u001b[39;00m\n\u001b[0;32m     <a href='vscode-notebook-cell:/c%3A/Users/Nathan/Programs/4D_Connect_4/board_test.ipynb#W3sZmlsZQ%3D%3D?line=22'>23</a>\u001b[0m     \u001b[39mfor\u001b[39;00m j \u001b[39min\u001b[39;00m \u001b[39mrange\u001b[39m(arr\u001b[39m.\u001b[39mshape[(orientation\u001b[39m+\u001b[39m\u001b[39m1\u001b[39m) \u001b[39m%\u001b[39m \u001b[39m4\u001b[39m]):\n\u001b[0;32m     <a href='vscode-notebook-cell:/c%3A/Users/Nathan/Programs/4D_Connect_4/board_test.ipynb#W3sZmlsZQ%3D%3D?line=23'>24</a>\u001b[0m         \u001b[39m# planes\u001b[39;00m\n\u001b[1;32m---> <a href='vscode-notebook-cell:/c%3A/Users/Nathan/Programs/4D_Connect_4/board_test.ipynb#W3sZmlsZQ%3D%3D?line=24'>25</a>\u001b[0m         \u001b[39myield\u001b[39;00m arr[plane_slice1(i, j)]\u001b[39m.\u001b[39mdiagonal()\n\u001b[0;32m     <a href='vscode-notebook-cell:/c%3A/Users/Nathan/Programs/4D_Connect_4/board_test.ipynb#W3sZmlsZQ%3D%3D?line=25'>26</a>\u001b[0m         \u001b[39myield\u001b[39;00m arr[plane_slice2(i, j)]\u001b[39m.\u001b[39mdiagonal()\n\u001b[0;32m     <a href='vscode-notebook-cell:/c%3A/Users/Nathan/Programs/4D_Connect_4/board_test.ipynb#W3sZmlsZQ%3D%3D?line=26'>27</a>\u001b[0m         \u001b[39mfor\u001b[39;00m k \u001b[39min\u001b[39;00m \u001b[39mrange\u001b[39m(arr\u001b[39m.\u001b[39mshape[(orientation\u001b[39m+\u001b[39m\u001b[39m2\u001b[39m) \u001b[39m%\u001b[39m \u001b[39m4\u001b[39m]):\n\u001b[0;32m     <a href='vscode-notebook-cell:/c%3A/Users/Nathan/Programs/4D_Connect_4/board_test.ipynb#W3sZmlsZQ%3D%3D?line=27'>28</a>\u001b[0m             \u001b[39m# lines\u001b[39;00m\n",
      "\u001b[1;31mIndexError\u001b[0m: arrays used as indices must be of integer (or boolean) type"
     ]
    }
   ],
   "source": [
    "from board import *\n",
    "\n",
    "x = Board((2, 2, 2))\n",
    "x.populate_randomly(99)\n",
    "x.update_token_history()\n",
    "x.populate_randomly(99)\n",
    "x.update_token_history()\n",
    "\n",
    "print(x.token_history[1:3])\n",
    "\n",
    "arr = np.roll(x.token_history, -x.token_history_i, axis=0)[-2:]\n",
    "\n",
    "def get_lines(arr):\n",
    "    # arr : an nxnxnxn subarray of the full array of tokens for connections of length n\n",
    "\n",
    "    \n",
    "    for orientation in range(4):\n",
    "        line_slice = lambda i, j, k : np.roll([i,j,k,slice(None)], orientation)\n",
    "        plane_slice1 = lambda i, j : np.roll([i,j,slice(None),slice(None)], orientation)\n",
    "        plane_slice2 = lambda i, j : np.roll([i,slice(None),j,slice(None)], orientation)\n",
    "        for i in range(arr.shape[orientation]):\n",
    "            # cubes\n",
    "            for j in range(arr.shape[(orientation+1) % 4]):\n",
    "                # planes\n",
    "                print(plane_slice1(i, j))\n",
    "                yield arr[plane_slice1(i, j)].diagonal()\n",
    "                yield arr[plane_slice2(i, j)].diagonal()\n",
    "                for k in range(arr.shape[(orientation+2) % 4]):\n",
    "                    # lines\n",
    "                    yield arr[line_slice(i, j, k)]\n",
    "\n",
    "    # 2d diagonals\n",
    "    for orientation in range(3):\n",
    "        s = lambda i, j : np.roll([i,j,slice(None),slice(None)], orientation)\n",
    "        for i in range(arr.shape[orientation]):\n",
    "            for j in range(arr.shape[(orientation+1) % 3]):\n",
    "                    a,b,c = s(i,j,k)\n",
    "                    yield arr[a,b,:].diagonal()\n",
    "        \n",
    "\n",
    "#arr[0,:,:,:].diagonal()[0] # 3d diagonals???\n",
    "# 4d diagonals???\n",
    "\n",
    "for line in get_lines(arr):\n",
    "    print(line)"
   ]
  },
  {
   "cell_type": "code",
   "execution_count": null,
   "metadata": {},
   "outputs": [],
   "source": []
  },
  {
   "cell_type": "code",
   "execution_count": null,
   "metadata": {},
   "outputs": [],
   "source": []
  },
  {
   "cell_type": "code",
   "execution_count": 7,
   "metadata": {},
   "outputs": [
    {
     "data": {
      "text/plain": [
       "array([0, 0, 0, 0], dtype=uint8)"
      ]
     },
     "execution_count": 7,
     "metadata": {},
     "output_type": "execute_result"
    }
   ],
   "source": [
    "from board import *\n",
    "\n",
    "x = Board((4,4,4))\n",
    "\n",
    "x.place(Token.red, (0,0))\n",
    "\n",
    "x.place(Token.red, (0,1))\n",
    "\n",
    "x.place(Token.red, (0,2))\n",
    "\n",
    "x.place(Token.red, (0,3))\n",
    "#print(x.tokens)\n",
    "\n"
   ]
  },
  {
   "cell_type": "code",
   "execution_count": null,
   "metadata": {},
   "outputs": [
    {
     "name": "stdout",
     "output_type": "stream",
     "text": [
      "gravity applied\n",
      "gravity applied\n",
      "placing 99 at (0, 0, slice(None, None, None)) in row [0 0 0 0]\n",
      "placed 99 at (0, 0, slice(None, None, None)):TOP\n",
      "gravity applied\n",
      "[[[ 0  0  0 99]\n",
      "  [ 0  0  0  3]\n",
      "  [ 0  0  1  1]\n",
      "  [ 0  0  0  0]]\n",
      "\n",
      " [[ 0  0  3  3]\n",
      "  [ 0  1  3  2]\n",
      "  [ 0  2  1  1]\n",
      "  [ 0  0  0  0]]\n",
      "\n",
      " [[ 1  1  3  3]\n",
      "  [ 1  3  2  2]\n",
      "  [ 3  1  2  2]\n",
      "  [ 2  3  1  1]]\n",
      "\n",
      " [[ 1  3  2  3]\n",
      "  [ 2  1  1  2]\n",
      "  [ 3  2  3  1]\n",
      "  [ 1  2  2  2]]]\n"
     ]
    }
   ],
   "source": [
    "\n",
    "from board import *\n",
    "\n",
    "x = Board((4,4,4))\n",
    "x.populate_randomly()\n",
    "\n",
    "#print(x.tokens)\n",
    "\n",
    "x.apply_gravity()\n",
    "\n",
    "#print(x.tokens)\n",
    "\n",
    "x.place(Token.debug, (0,0), Gravity.right)\n",
    "\n",
    "print(x.tokens)"
   ]
  },
  {
   "cell_type": "markdown",
   "metadata": {},
   "source": []
  }
 ],
 "metadata": {
  "kernelspec": {
   "display_name": "Python 3",
   "language": "python",
   "name": "python3"
  },
  "language_info": {
   "codemirror_mode": {
    "name": "ipython",
    "version": 3
   },
   "file_extension": ".py",
   "mimetype": "text/x-python",
   "name": "python",
   "nbconvert_exporter": "python",
   "pygments_lexer": "ipython3",
   "version": "3.8.0"
  },
  "orig_nbformat": 4
 },
 "nbformat": 4,
 "nbformat_minor": 2
}
